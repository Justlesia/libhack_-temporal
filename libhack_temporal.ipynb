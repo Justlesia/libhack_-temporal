{
 "cells": [
  {
   "cell_type": "markdown",
   "metadata": {},
   "source": [
    "# Решение на Хакатоне \"Детекция, интерпретация и валидация временных конструкций в русскоязычных текстах\". <br> 3 место (на основе решения жюри)"
   ]
  },
  {
   "cell_type": "markdown",
   "metadata": {},
   "source": [
    "## Организаторы и участники: \n",
    "\n",
    "ПАО \"[Сбербанк](https://www.sberbank.ru/)\"\n",
    "\n",
    "- Образовательная программа [Sber Graduate](https://sbergraduate.ru/)\n",
    "    - [Школа 21](https://21-school.ru/)\n",
    "\n",
    "- ФГБУ \"[Российская государственная библиотека](https://rsl.ru)\"\n",
    "\n",
    "    - Проектный офис [Национальный электронной библиотеки](https://nebrf.ru)\n",
    "    - Лаборатория исследования и разработок\n",
    "    - Отдел инженеров знаний\n",
    "\n",
    "#### Время проведения: 27 ноября 2020 - 29 ноября 2020\n",
    "  \n",
    "## Задача\n",
    "\n",
    "В рамках Национальной цифровой (электронной) библиотеки ее оператором Российской Государственной Библиотекой в 2020 году был запущен пилотный проект по оцифровке исторически значимых периодических изданий. Конечной целью является высокодоступное человеко- и машиночитаемое представление как самих выпусков, так и преработанный под платформы цифровой дистрибьюции текстовый и графический материал, а также высокоуровневые индексы сущностей, позволяющие работать с хронологией и связями, присутствующими в материале, осуществлять их фактологическую интеграцию с материалами из других источников.\n",
    "\n",
    "Значительной проблемой для высокоуровнего автоматизированного анализа являлось отсутствие специализированных механизмов для работы с темпоральными конструкциями русского языка. Формирование таких инструментов, пригодных к широкому применению и работающих с гарантированно высоким качеством и стало отправной точкой совместного хакатона. \n",
    "\n",
    "Команды, участвующие в хакатоне должны в качестве результата работы предоставить совокупность данных и программных решений, из которых возможно сформировать процесс:\n",
    "\n",
    "- Машинночитаемый корпус темпоральных конструкций русского языка, на момент завершения мероприятия явяющийся уникальной разработкой. С помощью этого корпуса осуществлялась многосторонняя проверка и оценка качества автоматизированных систем (Test suites).\n",
    "\n",
    "- Произвести качественную верификацию корпуса и исправить как ошибки расшифровки темпоральных значений, так выявить субоптимальные моменты в технической конвенции и принципах кодирования значений. \n",
    "\n",
    "- Программные решения, осуществляющие:\n",
    " * Выделение из общего объема текстового материала на выходе пилотной системы оцифровки периодических изданий.\n",
    " * Интерпретацию выделенных фрагментов с привязкой к конкретной временной точке на временной шкале, дающей начало для отсчета сдвигов временного контекста.\n",
    "\n",
    "- Прототип полного стека временного индекса на основе материала оцифровки изданий газеты \"Красная Звезда\" за период 1941 - 1945 г. (1539 выпусков), включая систему развертывания и работоспособную клиентскую часть.\n",
    "\n",
    "### Технические детали формата даты, использованные в процессе тестирования корпуса\n",
    "\n",
    "С целью экономии времени, которое потребовалось бы участникам для ознакомления со стандартами специализированной разметки, а также более просто адаптации под произвольный дизайн программных систем, технический формат, используемый в рамках работы РГБ (Facebook [Duckling2](https://github.com/facebook/duckling) corpus file, [ISO TimeM L1.2.1 + TIMEX3](http://www.timeml.org)) был упрощен\n",
    "\n",
    "Стандартные значения дат и времени задаются в формате [ГОСТ Р 7.0.64-2018](http://protect.gost.ru/v.aspx?control=8&baseC=-1&page=0&month=-1&year=-1&search=&RegNum=1&DocOnPageCount=15&id=222978) \n",
    "\"_Система стандартов по информации, библиотечному и издательскому делу. Представление дат и времени. Общие требования_\" (модификация стандарта [ISO 8601:2004](https://www.iso.org/standard/40874.html))\n",
    "\n",
    "* Не используется часть стандарта ISO:8601, где определен формат задания временной протяженности. \n",
    "* Для указания временных значений используется расширенная (extended) форма нотации, если таковая описана для используемого типа временной отметки.\n",
    "* Гранулярность точечного времени или границ интервала могла быть с точностью в рамках календарного года, месяца, дня. И время до целых часов, минут или секунд.\n",
    "* Для указания интервалов использовался разделитель в виде знака минус с двумя пробелами по бокам: ` - `\n",
    "* Обе границы интервалов считались включенными в него по минимальной или максимальной границе своего определения.\n",
    "* Ввод и вывод осуществляется в формате comma separated values, экранирование символов с помощью взятия значения в двойные кавычки: `\"this value, comma contains\".\n",
    "\n",
    "Пример: \n",
    "```csv\n",
    "\"Id\",\"Expected\"\n",
    "\"с одиннадцати тридцати утра до часу тридцати дня\",\"2020-11-27T11:30 - 2020-11-27T13:30\"\n",
    "\"с 18 по 27 января 1942 года\",\"1942-01-18 - 1942-01-27\"\n",
    "```\n",
    "\n",
    "Интервал содержит такой же формат дат, что и точечные даты.\n",
    "\n",
    "## Датасеты\n",
    "\n",
    "- Без ответов -  temporal-thesaurus-analytical-corpora-sample-submission.csv\n",
    "- С ре-верифицированными ответами - temporal-corpora-ru-rev3-resolved.csv\n",
    "\n",
    "\n",
    "## Итоговый счет команд\n",
    "\n",
    "Рассчитан относительно ре-верифицированной третьей ревизии корпуса в которой экспертно были разрешены конфликты между образцом и вариантами лучшей команды, осуществившей ручную верификацию вслупую (указывали свой вариат расшифровки, не зная варианта, указанного в образце).\n",
    "\n",
    "| Мой счет (от 0.0 до 1.0) | Команда | Попытка |\n",
    "| --- | --- | --- |\n",
    "| 0.342784 | ElenaKiseleva | 18344287 - Pub_0_35567 Priv_0_35567.csv |\n",
    "\n",
    "\n",
    "**Источник https://github.com/ndlrf-rnd/school21-retropress-temporal**\n"
   ]
  },
  {
   "cell_type": "markdown",
   "metadata": {},
   "source": [
    "## Подгрузка библиотек и самописные функции"
   ]
  },
  {
   "cell_type": "code",
   "execution_count": 1,
   "metadata": {},
   "outputs": [],
   "source": [
    "import numpy as np\n",
    "import pandas as pd\n",
    "import joblib\n",
    "import time\n",
    "import warnings\n",
    "from termcolor import colored\n",
    "\n",
    "import dateparser\n",
    "import datetime\n",
    "import re"
   ]
  },
  {
   "cell_type": "code",
   "execution_count": 2,
   "metadata": {},
   "outputs": [],
   "source": [
    "#Определяем болд\n",
    "def bold(): \n",
    "    return \"\\033[1m\"\n",
    "\n",
    "def bold_end(): \n",
    "    return \"\\033[0m\"\n",
    "\n",
    "#Ставим формат для нумериков\n",
    "pd.options.display.float_format = '{: >10.2f}'.format\n",
    "\n",
    "#Убираем ворнинги\n",
    "warnings.simplefilter(action='ignore', category=FutureWarning)"
   ]
  },
  {
   "cell_type": "code",
   "execution_count": 3,
   "metadata": {},
   "outputs": [],
   "source": [
    "#**Функция print_basic_info, для вывода информации о массиве, и его переменных.**\n",
    "\n",
    "#* base - название базы данных\n",
    "#* info - 1: вывод информации о массиве, другое: не вывод\n",
    "#* describe - 1: вывод описания переменных массива, другое: не вывод        \n",
    "#* duplicat - 1: вывод количества полных дублей\n",
    "#* head - n: вывод примера базы (вывод n - строк), n < 1: не вывод\n",
    "\n",
    "def print_basic_info(base, info, describe, duplicat, head):\n",
    "    if info == 1:\n",
    "        print(\"\\n\", bold(), colored('info','green'), bold_end(), \"\\n\")\n",
    "        print( base.info())  \n",
    "    if head >= 1:\n",
    "        print(\"\\n\", bold(),colored('head','green'),bold_end())\n",
    "        display(base.head(head))\n",
    "    if describe == 1:\n",
    "        print(\"\\n\", bold(),colored('describe','green'),bold_end(),\"\\n\")\n",
    "        for i in base.columns:\n",
    "            print(\"\\n\", bold(), colored(i,'blue'),bold_end(),\"\\n\", base[i].describe())\n",
    "    if duplicat == 1:\n",
    "        print(\"\\n\", bold(),colored('duplicated','green'),bold_end(),\"\\n\")\n",
    "        print(base[base.duplicated() == True][base.columns[0]].count())"
   ]
  },
  {
   "cell_type": "markdown",
   "metadata": {},
   "source": [
    "##  Подготовка данных"
   ]
  },
  {
   "cell_type": "markdown",
   "metadata": {},
   "source": [
    "**Открываем**"
   ]
  },
  {
   "cell_type": "code",
   "execution_count": 4,
   "metadata": {},
   "outputs": [],
   "source": [
    "#Загружаем\n",
    "contest_train = pd.read_csv(\n",
    "    'datasets/temporal-thesaurus-analytical-corpora-sample-submission.csv', sep=',',decimal='.')"
   ]
  },
  {
   "cell_type": "code",
   "execution_count": 5,
   "metadata": {},
   "outputs": [
    {
     "name": "stdout",
     "output_type": "stream",
     "text": [
      "\n",
      " \u001b[1m \u001b[32minfo\u001b[0m \u001b[0m \n",
      "\n",
      "<class 'pandas.core.frame.DataFrame'>\n",
      "RangeIndex: 388 entries, 0 to 387\n",
      "Data columns (total 2 columns):\n",
      " #   Column    Non-Null Count  Dtype \n",
      "---  ------    --------------  ----- \n",
      " 0   Id        388 non-null    object\n",
      " 1   Expected  388 non-null    object\n",
      "dtypes: object(2)\n",
      "memory usage: 6.2+ KB\n",
      "None\n",
      "\n",
      " \u001b[1m \u001b[32mhead\u001b[0m \u001b[0m\n"
     ]
    },
    {
     "data": {
      "text/html": [
       "<div>\n",
       "<style scoped>\n",
       "    .dataframe tbody tr th:only-of-type {\n",
       "        vertical-align: middle;\n",
       "    }\n",
       "\n",
       "    .dataframe tbody tr th {\n",
       "        vertical-align: top;\n",
       "    }\n",
       "\n",
       "    .dataframe thead th {\n",
       "        text-align: right;\n",
       "    }\n",
       "</style>\n",
       "<table border=\"1\" class=\"dataframe\">\n",
       "  <thead>\n",
       "    <tr style=\"text-align: right;\">\n",
       "      <th></th>\n",
       "      <th>Id</th>\n",
       "      <th>Expected</th>\n",
       "    </tr>\n",
       "  </thead>\n",
       "  <tbody>\n",
       "    <tr>\n",
       "      <th>0</th>\n",
       "      <td>в эту минуту</td>\n",
       "      <td>2020-11-27T02:30</td>\n",
       "    </tr>\n",
       "    <tr>\n",
       "      <th>1</th>\n",
       "      <td>сейчас</td>\n",
       "      <td>2020-11-27T02:30</td>\n",
       "    </tr>\n",
       "    <tr>\n",
       "      <th>2</th>\n",
       "      <td>прямо сейчас</td>\n",
       "      <td>2020-11-27T02:30</td>\n",
       "    </tr>\n",
       "    <tr>\n",
       "      <th>3</th>\n",
       "      <td>в настоящий момент</td>\n",
       "      <td>2020-11-27T02:30</td>\n",
       "    </tr>\n",
       "    <tr>\n",
       "      <th>4</th>\n",
       "      <td>сегодня</td>\n",
       "      <td>2020-11-27T02:30</td>\n",
       "    </tr>\n",
       "  </tbody>\n",
       "</table>\n",
       "</div>"
      ],
      "text/plain": [
       "                   Id          Expected\n",
       "0        в эту минуту  2020-11-27T02:30\n",
       "1              сейчас  2020-11-27T02:30\n",
       "2        прямо сейчас  2020-11-27T02:30\n",
       "3  в настоящий момент  2020-11-27T02:30\n",
       "4             сегодня  2020-11-27T02:30"
      ]
     },
     "metadata": {},
     "output_type": "display_data"
    },
    {
     "name": "stdout",
     "output_type": "stream",
     "text": [
      "\n",
      " \u001b[1m \u001b[32mduplicated\u001b[0m \u001b[0m \n",
      "\n",
      "0\n"
     ]
    }
   ],
   "source": [
    "print_basic_info(contest_train,1,0,1,5)"
   ]
  },
  {
   "cell_type": "markdown",
   "metadata": {},
   "source": [
    "## Парсинг"
   ]
  },
  {
   "cell_type": "markdown",
   "metadata": {},
   "source": [
    "#задала стартовые даты"
   ]
  },
  {
   "cell_type": "code",
   "execution_count": 6,
   "metadata": {},
   "outputs": [],
   "source": [
    "test_date =  datetime.datetime(2020, 11, 27, 2,30)\n",
    "format_date = \"%Y-%m-%dT%H:%M\"\n",
    "\n",
    "date_in_format = '2020-11-27T00:00'\n",
    "now_in_format = '2020-11-27T02:30'"
   ]
  },
  {
   "cell_type": "markdown",
   "metadata": {},
   "source": [
    "#лемотизировала"
   ]
  },
  {
   "cell_type": "code",
   "execution_count": 7,
   "metadata": {},
   "outputs": [],
   "source": [
    "contest_train['id_copy'] = contest_train['Id'].str.lower()\n",
    "\n",
    "from pymystem3 import Mystem\n",
    "m = Mystem()\n",
    "\n",
    "def lem (row):\n",
    "    text = row['id_copy']\n",
    "    return (' '.join(m.lemmatize(str(text))))\n",
    "\n",
    "contest_train['id_copy'] = contest_train.apply(lem, axis=1)"
   ]
  },
  {
   "cell_type": "markdown",
   "metadata": {},
   "source": [
    "#исключила предлоги"
   ]
  },
  {
   "cell_type": "code",
   "execution_count": 8,
   "metadata": {},
   "outputs": [],
   "source": [
    "stop_words = ['то','за','в','го','-','не','е',',','во','к','на','ко']\n",
    "\n",
    "contest_train['id_copy_one'] = contest_train['id_copy'].apply(lambda x: [word for word in x.split() if word not in stop_words])\n",
    "contest_train['id_copy'] = [' '.join(map(str, l)) for l in contest_train['id_copy_one']]\n",
    "\n",
    "\n",
    "n = 6\n",
    "for i in range(0, len(contest_train)):\n",
    "    try:\n",
    "        contest_train.loc[i,'id_copy']  = re.sub(r'([0-9])-?(?:му|ой|ого|го|е)', '\\g<1>', contest_train.loc[i,'id_copy'])\n",
    "    except:\n",
    "        n += 1   "
   ]
  },
  {
   "cell_type": "markdown",
   "metadata": {},
   "source": [
    "#перевела цифры"
   ]
  },
  {
   "cell_type": "code",
   "execution_count": 9,
   "metadata": {},
   "outputs": [],
   "source": [
    "nbr = [\"первый\", \"второй\", \"третий\", \"четвертый\", \"пятый\", \"шестой\", \"семой\", \"восемой\", \"девятый\", \"десятый\",\"одинадцатый\", \"двенадцать\", \"тринадцатый\", \"четырнадцатый\", \"пятнадцатый\", \"шестнадцатый\",\n",
    "\"семнадцатый\", \"восемнадцатый\", \"девятнадцатый\", \"двадцатый\"]\n",
    "\n",
    "for i in range(1,21):\n",
    "    contest_train['id_copy'] = contest_train['id_copy'].str.replace(str(nbr[i-1]),str(i))\n",
    "\n",
    "contest_train['id_copy'] = contest_train['id_copy'].str.replace('тридцатый',\"30\")    \n",
    "contest_train['id_copy'] = contest_train['id_copy'].str.replace('одиннадцатый',\"11\")\n",
    "contest_train['id_copy'] = contest_train['id_copy'].str.replace('четыре',\"4\")"
   ]
  },
  {
   "cell_type": "markdown",
   "metadata": {},
   "source": [
    "#ручная чистка"
   ]
  },
  {
   "cell_type": "code",
   "execution_count": 10,
   "metadata": {},
   "outputs": [],
   "source": [
    "contest_train['id_copy'] = contest_train['id_copy'].str.replace('дека ',\"декабрь \")"
   ]
  },
  {
   "cell_type": "code",
   "execution_count": 11,
   "metadata": {},
   "outputs": [
    {
     "data": {
      "text/html": [
       "<div>\n",
       "<style scoped>\n",
       "    .dataframe tbody tr th:only-of-type {\n",
       "        vertical-align: middle;\n",
       "    }\n",
       "\n",
       "    .dataframe tbody tr th {\n",
       "        vertical-align: top;\n",
       "    }\n",
       "\n",
       "    .dataframe thead th {\n",
       "        text-align: right;\n",
       "    }\n",
       "</style>\n",
       "<table border=\"1\" class=\"dataframe\">\n",
       "  <thead>\n",
       "    <tr style=\"text-align: right;\">\n",
       "      <th></th>\n",
       "      <th>Id</th>\n",
       "      <th>Expected</th>\n",
       "      <th>id_copy</th>\n",
       "      <th>id_copy_one</th>\n",
       "    </tr>\n",
       "  </thead>\n",
       "  <tbody>\n",
       "    <tr>\n",
       "      <th>0</th>\n",
       "      <td>в эту минуту</td>\n",
       "      <td>2020-11-27T02:30</td>\n",
       "      <td>этот минута</td>\n",
       "      <td>[этот, минута]</td>\n",
       "    </tr>\n",
       "    <tr>\n",
       "      <th>1</th>\n",
       "      <td>сейчас</td>\n",
       "      <td>2020-11-27T02:30</td>\n",
       "      <td>сейчас</td>\n",
       "      <td>[сейчас]</td>\n",
       "    </tr>\n",
       "    <tr>\n",
       "      <th>2</th>\n",
       "      <td>прямо сейчас</td>\n",
       "      <td>2020-11-27T02:30</td>\n",
       "      <td>прямо сейчас</td>\n",
       "      <td>[прямо, сейчас]</td>\n",
       "    </tr>\n",
       "    <tr>\n",
       "      <th>3</th>\n",
       "      <td>в настоящий момент</td>\n",
       "      <td>2020-11-27T02:30</td>\n",
       "      <td>настоящий момент</td>\n",
       "      <td>[настоящий, момент]</td>\n",
       "    </tr>\n",
       "    <tr>\n",
       "      <th>4</th>\n",
       "      <td>сегодня</td>\n",
       "      <td>2020-11-27T02:30</td>\n",
       "      <td>сегодня</td>\n",
       "      <td>[сегодня]</td>\n",
       "    </tr>\n",
       "  </tbody>\n",
       "</table>\n",
       "</div>"
      ],
      "text/plain": [
       "                   Id          Expected           id_copy          id_copy_one\n",
       "0        в эту минуту  2020-11-27T02:30       этот минута       [этот, минута]\n",
       "1              сейчас  2020-11-27T02:30            сейчас             [сейчас]\n",
       "2        прямо сейчас  2020-11-27T02:30      прямо сейчас      [прямо, сейчас]\n",
       "3  в настоящий момент  2020-11-27T02:30  настоящий момент  [настоящий, момент]\n",
       "4             сегодня  2020-11-27T02:30           сегодня            [сегодня]"
      ]
     },
     "execution_count": 11,
     "metadata": {},
     "output_type": "execute_result"
    }
   ],
   "source": [
    "contest_train.head()"
   ]
  },
  {
   "cell_type": "markdown",
   "metadata": {},
   "source": [
    "<!-- # n = 6\n",
    "\n",
    "# for i in range(0, len(contest_train)):\n",
    "#     try:\n",
    "#         contest_train.loc[i,'day']  = re.findall(r'[0-9]{2}', contest_train.loc[i,'id_copy'])\n",
    "#         if len(re.findall(r'[0-9]{2}', contest_train.loc[i,'id_copy'])) > 1:\n",
    "#             contest_train.loc[i,'year']  = re.findall(r'[0-9]{4}', contest_train.loc[i,'id_copy'])[0]\n",
    "#             contest_train.loc[i,'year_2']  = re.findall(r'[0-9]{4}', contest_train.loc[i,'id_copy'])[1]\n",
    "#     except:\n",
    "#         n += 1    -->"
   ]
  },
  {
   "cell_type": "code",
   "execution_count": 12,
   "metadata": {},
   "outputs": [],
   "source": [
    "contest_train['id_copy'] = contest_train['id_copy'].replace('за завтрашний','завтра')\n",
    "contest_train['id_copy'] = contest_train['id_copy'].replace('назавтра','завтра')\n",
    "contest_train['id_copy'] = contest_train['id_copy'].replace('накануне','вчера')\n",
    "contest_train['id_copy'] = contest_train['id_copy'].replace('рано','назад')\n",
    "contest_train['id_copy'] = contest_train['id_copy'].replace('ранее','назад')\n",
    "contest_train['id_copy'] = contest_train['id_copy'].replace('спустя','через')\n",
    "contest_train['id_copy'] = contest_train['id_copy'].replace('послепослезавтра ','через два день')\n",
    "contest_train['id_copy'] = contest_train['id_copy'].replace('дека .','декабрь')\n",
    "contest_train['id_copy'] = contest_train['id_copy'].replace('янва .','января')\n",
    "contest_train['id_copy'] = contest_train['id_copy'].replace('в последний день неделя ','воскресение')\n",
    "contest_train['id_copy'] = contest_train['id_copy'].replace('\\n','')\n",
    "contest_train['id_copy'] = contest_train['id_copy'].replace('сие','сегодня')\n",
    "contest_train['id_copy'] = contest_train['id_copy'].replace('следующий день','завтра')\n",
    "contest_train['id_copy'] = contest_train['id_copy'].replace('следующий сутки','завтра')\n",
    "contest_train['id_copy'] = contest_train['id_copy'].replace('день через','через день')\n",
    "contest_train['id_copy'] = contest_train['id_copy'].replace('агуста','августа')\n",
    "contest_train['id_copy'] = contest_train['id_copy'].replace('близкий','')"
   ]
  },
  {
   "cell_type": "code",
   "execution_count": 13,
   "metadata": {},
   "outputs": [],
   "source": [
    "contest_train['id_copy'] = contest_train['id_copy'].replace('два тысяча восемнадцатый год','2018')\n",
    "contest_train['id_copy'] = contest_train['id_copy'].replace('дека ','декабрь')"
   ]
  },
  {
   "cell_type": "markdown",
   "metadata": {},
   "source": [
    "#обработка промежутков"
   ]
  },
  {
   "cell_type": "code",
   "execution_count": 14,
   "metadata": {},
   "outputs": [],
   "source": [
    "n = 0\n",
    " \n",
    "for i in range(0, len(contest_train)):\n",
    "    try:\n",
    "            d = contest_train.loc[i,'id_copy'].split('-')\n",
    "            contest_train.loc[i,'id_copy'] = contest_train.loc[i,'id_copy'].split('-')[0]\n",
    "            contest_train.loc[i,'pred_2'] = contest_train.loc[i,'id_copy'].split('-')[1]\n",
    "    except:\n",
    "        n += 1   \n",
    "    \n",
    "for i in range(0, len(contest_train)):\n",
    "    try:\n",
    "            d = contest_train.loc[i,'id_copy'].split('—')\n",
    "            contest_train.loc[i,'id_copy'] = contest_train.loc[i,'id_copy'].split('—')[0]\n",
    "            contest_train.loc[i,'pred_2'] = contest_train.loc[i,'id_copy'].split('—')[1]\n",
    "    except:\n",
    "        n += 1   \n",
    "\n",
    "\n",
    "for i in range(0, len(contest_train)):\n",
    "    try:\n",
    "            d = contest_train.loc[i,'id_copy'].split('/')\n",
    "            contest_train.loc[i,'id_copy'] = contest_train.loc[i,'id_copy'].split('/')[0]\n",
    "            contest_train.loc[i,'pred_2'] = contest_train.loc[i,'id_copy'].split('/')[1]\n",
    "            print(contest_train.loc[i,'id_copy'], contest_train.loc[i,'pred_Q'])\n",
    "    except:\n",
    "        n += 1\n",
    "\n",
    "for i in range(0, len(contest_train)):\n",
    "    try:\n",
    "        if len(re.findall(r'[0-9]{4}', contest_train.loc[i,'id_copy'])) > 1:\n",
    "            contest_train.loc[i,'id_copy'] = contest_train.loc[i,'id_copy'].split(re.findall(r'[0-9]{4}', contest_train.loc[i,'id_copy'])[1])[0]\n",
    "            contest_train.loc[i,'pred_2'] = contest_train.loc[i,'id_copy'].split(re.findall(r'[0-9]{4}', contest_train.loc[i,'id_copy'])[0])[1]\n",
    "            print(contest_train.loc[i,'id_copy'], contest_train.loc[i,'pred_Q'])\n",
    "            #contest_train.loc[i,'pred'] = now_in_format\n",
    "    except:\n",
    "        n += 1\n",
    "        \n",
    "\n",
    "for i in range(0, len(contest_train)):\n",
    "    try:\n",
    "        if ('c ' in contest_train.loc[i,'id_copy']) or ('по ' in contest_train.loc[i,'id_copy']):\n",
    "            contest_train.loc[i,'id_copy'] = contest_train.loc[i,'id_copy'].split('по ')[0]\n",
    "            contest_train.loc[i,'pred_2'] = contest_train.loc[i,'id_copy'].split('по ')[1]\n",
    "            print(contest_train.loc[i,'id_copy'], contest_train.loc[i,'pred_Q'])\n",
    "    except:\n",
    "        n += 1"
   ]
  },
  {
   "cell_type": "code",
   "execution_count": 15,
   "metadata": {
    "code_folding": []
   },
   "outputs": [],
   "source": [
    "def to_date(x):\n",
    "    i = x['pred_2']\n",
    "    try:\n",
    "        return dateparser.parse(i, settings={'RELATIVE_BASE': test_date })\n",
    "    except:\n",
    "        g = 0\n",
    "        \n",
    "        \n",
    "#применяем \n",
    "contest_train['pred_2'] = contest_train.apply(to_date, axis=1)\n",
    "\n",
    "\n",
    "def to_date(x):\n",
    "    i = x['id_copy']\n",
    "    return dateparser.parse(i, settings={'RELATIVE_BASE': test_date })\n",
    "\n",
    "#применяем \n",
    "contest_train['pred'] = contest_train.apply(to_date, axis=1)"
   ]
  },
  {
   "cell_type": "code",
   "execution_count": 16,
   "metadata": {
    "code_folding": []
   },
   "outputs": [],
   "source": [
    "n = 0\n",
    "for i in range(0, len(contest_train)):\n",
    "    try:\n",
    "        contest_train.loc[i,'pred'] = contest_train.loc[i,'pred'].strftime(\"%Y-%m-%dT%H:%M\")\n",
    "        contest_train.loc[i,'pred_2'] = contest_train.loc[i,'pred'].strftime(\"%Y-%m-%dT%H:%M\")\n",
    "    except:\n",
    "        n += 1"
   ]
  },
  {
   "cell_type": "code",
   "execution_count": 17,
   "metadata": {},
   "outputs": [],
   "source": [
    "#обработка бывший - нынешний -текущий и т.д."
   ]
  },
  {
   "cell_type": "code",
   "execution_count": 18,
   "metadata": {},
   "outputs": [],
   "source": [
    "def ft_cods (row):\n",
    "    text = row['id_copy']\n",
    "    if ('сейчас' in text):\n",
    "        return str(now_in_format)\n",
    "\n",
    "contest_train['pred_str'] = contest_train.apply(ft_cods, axis=1)\n",
    "contest_train['pred_str'] = contest_train['pred'].astype(str)"
   ]
  },
  {
   "cell_type": "code",
   "execution_count": 19,
   "metadata": {},
   "outputs": [],
   "source": [
    "this_year = 2020\n",
    "n = 0\n",
    "for i in range(0, len(contest_train)):\n",
    "    if ('год' in contest_train.loc[i,'id_copy']) or ('кв.' in contest_train.loc[i,'id_copy']):\n",
    "        if ('прошлый' in contest_train.loc[i,'id_copy']) or (\n",
    "            'минувший' in contest_train.loc[i,'id_copy']) or ('предыдущий' in contest_train.loc[i,'id_copy']):\n",
    "            contest_train.loc[i,'pred_Q'] = str(this_year - 1)\n",
    "        if ('этот' in contest_train.loc[i,'id_copy']) or('сей' in contest_train.loc[i,'id_copy'])  or(\n",
    "            'уходить' in contest_train.loc[i,'id_copy']) or ('уходящий' in contest_train.loc[i,'id_copy']) or (\n",
    "            'текущий' in contest_train.loc[i,'id_copy']) or ('нынешний' in contest_train.loc[i,'id_copy']) or (\n",
    "            'истекать' in contest_train.loc[i,'id_copy']):\n",
    "            contest_train.loc[i,'pred_Q'] = str(this_year)\n",
    "        if ('следующий' in contest_train.loc[i,'id_copy']) or('грядущий' in contest_train.loc[i,'id_copy'])  or(\n",
    "            'предстоять' in contest_train.loc[i,'id_copy']) or ('предстоящий' in contest_train.loc[i,'id_copy']):\n",
    "            contest_train.loc[i,'pred_Q'] = str(this_year + 1)"
   ]
  },
  {
   "cell_type": "code",
   "execution_count": 20,
   "metadata": {},
   "outputs": [],
   "source": [
    "n = 0\n",
    "for i in range(0, len(contest_train)):\n",
    "    try:\n",
    "        if ('сейчас' in contest_train.loc[i,'id_copy']) or ('момент' in contest_train.loc[i,'id_copy']):\n",
    "            contest_train.loc[i,'pred'] = now_in_format\n",
    "        if ('сегодняшний' in contest_train.loc[i,'id_copy']) or ('сие' in contest_train.loc[i,'id_copy']):\n",
    "            contest_train.loc[i,'pred'] = date_in_format\n",
    "        if ('этот' in contest_train.loc[i,'id_copy']) and ('минута' in contest_train.loc[i,'id_copy']):\n",
    "            contest_train.loc[i,'pred'] = now_in_format\n",
    "        if ('этот' in contest_train.loc[i,'id_copy']) and ('день' in contest_train.loc[i,'id_copy']):\n",
    "            contest_train.loc[i,'pred'] = date_in_format\n",
    "    except:\n",
    "        n += 1\n",
    "        \n",
    "#попытка обработки часов\n",
    "for i in range(0, len(contest_train)):\n",
    "    try:\n",
    "        if ('4 утро' in contest_train.loc[i,'id_copy']) or ('4 час' in contest_train.loc[i,'id_copy']) or (\n",
    "            '04 : 00' in contest_train.loc[i,'id_copy']):\n",
    "            contest_train.loc[i,'pred'] = '2020-11-27T04:00'\n",
    "        if ('2:20' in contest_train.loc[i,'id_copy']) or ('два двадцать' in contest_train.loc[i,'id_copy']):\n",
    "            contest_train.loc[i,'pred'] = '2020-11-27T02:20'\n",
    "    except:\n",
    "        n += 1  "
   ]
  },
  {
   "cell_type": "code",
   "execution_count": 21,
   "metadata": {},
   "outputs": [],
   "source": [
    "#обработка кварталов"
   ]
  },
  {
   "cell_type": "code",
   "execution_count": 22,
   "metadata": {},
   "outputs": [],
   "source": [
    "this_year = 2020\n",
    "n = 0\n",
    "for i in range(0, len(contest_train)):\n",
    "    try:\n",
    "        if ('квартал' in contest_train.loc[i,'id_copy']) or ('кв.' in contest_train.loc[i,'id_copy']):\n",
    "            contest_train.loc[i,'id_copy'] = contest_train.loc[i,'id_copy'].replace('   ',' ').replace('- й','').replace('2й','2')\n",
    "            if ('первый' in contest_train.loc[i,'id_copy']) or ('1 ' in contest_train.loc[i,'id_copy']):\n",
    "                q = 1\n",
    "            elif ('второй' in contest_train.loc[i,'id_copy']) or ('2 ' in contest_train.loc[i,'id_copy']) or ('ii квартал' in contest_train.loc[i,'id_copy']):\n",
    "                q = 2\n",
    "            elif ('третий' in contest_train.loc[i,'id_copy']) or ('3 ' in contest_train.loc[i,'id_copy']):\n",
    "                q = 3\n",
    "            elif ('чевертый' in contest_train.loc[i,'id_copy']) or ('4 ' in contest_train.loc[i,'id_copy']):\n",
    "                q = 4\n",
    "            year = re.findall(r'[0-9]{4}',contest_train.loc[i,'id_copy'])[0]\n",
    "            if ('два тысяча восемнадцатый год' in contest_train.loc[i,'id_copy']):\n",
    "                year = 2018\n",
    "            elif ('этот год' in contest_train.loc[i,'id_copy']) or ('текущий   год' in contest_train.loc[i,'id_copy']):\n",
    "                year = this_year\n",
    "            contest_train.loc[i,'pred_Q'] = str(year)+\"-Q\"+str(q)\n",
    "    except:\n",
    "        n += 1"
   ]
  },
  {
   "cell_type": "markdown",
   "metadata": {},
   "source": [
    "#Если 00 00 время - окидываем часть"
   ]
  },
  {
   "cell_type": "code",
   "execution_count": 23,
   "metadata": {},
   "outputs": [
    {
     "data": {
      "text/plain": [
       "0.04381443298969072"
      ]
     },
     "execution_count": 23,
     "metadata": {},
     "output_type": "execute_result"
    }
   ],
   "source": [
    "contest_train['pred_str'] = contest_train['pred'].astype(str)\n",
    "\n",
    "n = 0\n",
    "for i in range(0, len(contest_train)):\n",
    "    try:\n",
    "        if contest_train.loc[i,'pred_str'].split(\"T\")[1] == '00:00':\n",
    "            contest_train.loc[i,'pred_str'] = contest_train.loc[i,'pred_str'].split(\"T\")[0]\n",
    "    except:\n",
    "        n += 1\n",
    "\n",
    "np.mean(contest_train.pred_str == '2020-12-01')\n",
    "\n",
    "\n",
    "contest_train['pred_2'] = contest_train['pred_2'].astype(str)\n",
    "\n",
    "n = 0\n",
    "for i in range(0, len(contest_train)):\n",
    "    try:\n",
    "        if contest_train.loc[i,'pred_2'].split(\"T\")[1] == '00:00':\n",
    "            contest_train.loc[i,'pred_2'] = contest_train.loc[i,'pred_str'].split(\"T\")[0]\n",
    "    except:\n",
    "        n += 1\n",
    "\n",
    "np.mean(contest_train.pred_str == '2020-12-01')"
   ]
  },
  {
   "cell_type": "code",
   "execution_count": 24,
   "metadata": {},
   "outputs": [
    {
     "data": {
      "text/html": [
       "<div>\n",
       "<style scoped>\n",
       "    .dataframe tbody tr th:only-of-type {\n",
       "        vertical-align: middle;\n",
       "    }\n",
       "\n",
       "    .dataframe tbody tr th {\n",
       "        vertical-align: top;\n",
       "    }\n",
       "\n",
       "    .dataframe thead th {\n",
       "        text-align: right;\n",
       "    }\n",
       "</style>\n",
       "<table border=\"1\" class=\"dataframe\">\n",
       "  <thead>\n",
       "    <tr style=\"text-align: right;\">\n",
       "      <th></th>\n",
       "      <th>Id</th>\n",
       "      <th>Expected</th>\n",
       "      <th>id_copy</th>\n",
       "      <th>id_copy_one</th>\n",
       "      <th>pred_2</th>\n",
       "      <th>pred</th>\n",
       "      <th>pred_str</th>\n",
       "      <th>pred_Q</th>\n",
       "    </tr>\n",
       "  </thead>\n",
       "  <tbody>\n",
       "    <tr>\n",
       "      <th>0</th>\n",
       "      <td>в эту минуту</td>\n",
       "      <td>2020-11-27T02:30</td>\n",
       "      <td>этот минута</td>\n",
       "      <td>[этот, минута]</td>\n",
       "      <td>NaT</td>\n",
       "      <td>2020-11-27T02:30</td>\n",
       "      <td>2020-11-27T02:30</td>\n",
       "      <td>NaN</td>\n",
       "    </tr>\n",
       "    <tr>\n",
       "      <th>1</th>\n",
       "      <td>сейчас</td>\n",
       "      <td>2020-11-27T02:30</td>\n",
       "      <td>сейчас</td>\n",
       "      <td>[сейчас]</td>\n",
       "      <td>NaT</td>\n",
       "      <td>2020-11-27T02:30</td>\n",
       "      <td>2020-11-27T02:30</td>\n",
       "      <td>NaN</td>\n",
       "    </tr>\n",
       "    <tr>\n",
       "      <th>2</th>\n",
       "      <td>прямо сейчас</td>\n",
       "      <td>2020-11-27T02:30</td>\n",
       "      <td>прямо сейчас</td>\n",
       "      <td>[прямо, сейчас]</td>\n",
       "      <td>NaT</td>\n",
       "      <td>2020-11-27T02:30</td>\n",
       "      <td>2020-11-27T02:30</td>\n",
       "      <td>NaN</td>\n",
       "    </tr>\n",
       "    <tr>\n",
       "      <th>3</th>\n",
       "      <td>в настоящий момент</td>\n",
       "      <td>2020-11-27T02:30</td>\n",
       "      <td>настоящий момент</td>\n",
       "      <td>[настоящий, момент]</td>\n",
       "      <td>NaT</td>\n",
       "      <td>2020-11-27T02:30</td>\n",
       "      <td>2020-11-27T02:30</td>\n",
       "      <td>NaN</td>\n",
       "    </tr>\n",
       "    <tr>\n",
       "      <th>4</th>\n",
       "      <td>сегодня</td>\n",
       "      <td>2020-11-27T02:30</td>\n",
       "      <td>сегодня</td>\n",
       "      <td>[сегодня]</td>\n",
       "      <td>NaT</td>\n",
       "      <td>2020-11-27T02:30</td>\n",
       "      <td>2020-11-27T02:30</td>\n",
       "      <td>NaN</td>\n",
       "    </tr>\n",
       "  </tbody>\n",
       "</table>\n",
       "</div>"
      ],
      "text/plain": [
       "                   Id          Expected           id_copy  \\\n",
       "0        в эту минуту  2020-11-27T02:30       этот минута   \n",
       "1              сейчас  2020-11-27T02:30            сейчас   \n",
       "2        прямо сейчас  2020-11-27T02:30      прямо сейчас   \n",
       "3  в настоящий момент  2020-11-27T02:30  настоящий момент   \n",
       "4             сегодня  2020-11-27T02:30           сегодня   \n",
       "\n",
       "           id_copy_one pred_2              pred          pred_str pred_Q  \n",
       "0       [этот, минута]    NaT  2020-11-27T02:30  2020-11-27T02:30    NaN  \n",
       "1             [сейчас]    NaT  2020-11-27T02:30  2020-11-27T02:30    NaN  \n",
       "2      [прямо, сейчас]    NaT  2020-11-27T02:30  2020-11-27T02:30    NaN  \n",
       "3  [настоящий, момент]    NaT  2020-11-27T02:30  2020-11-27T02:30    NaN  \n",
       "4            [сегодня]    NaT  2020-11-27T02:30  2020-11-27T02:30    NaN  "
      ]
     },
     "execution_count": 24,
     "metadata": {},
     "output_type": "execute_result"
    }
   ],
   "source": [
    "contest_train.head()"
   ]
  },
  {
   "cell_type": "markdown",
   "metadata": {},
   "source": [
    "#объединяем со сточкой по квартилям"
   ]
  },
  {
   "cell_type": "code",
   "execution_count": 25,
   "metadata": {},
   "outputs": [],
   "source": [
    "for i in range(0, len(contest_train)):\n",
    "    try:\n",
    "        if int(re.findall(r'[0-9]{4}',contest_train.loc[i,'pred_Q'])[0]) > 0:\n",
    "            contest_train.loc[i,'pred_str'] = contest_train.loc[i,'pred_Q']\n",
    "    except:\n",
    "        n += 1"
   ]
  },
  {
   "cell_type": "code",
   "execution_count": 26,
   "metadata": {},
   "outputs": [],
   "source": [
    "#пропуски по желанию заполняем текущей датойи временем.\n",
    "#contest_train['pred_str'] = contest_train['pred_str'].replace('NaT','2020-11-27T02:30')"
   ]
  },
  {
   "cell_type": "markdown",
   "metadata": {},
   "source": [
    "##  Сохранение"
   ]
  },
  {
   "cell_type": "code",
   "execution_count": 27,
   "metadata": {},
   "outputs": [],
   "source": [
    "data = pd.DataFrame()\n",
    "data['Id']= contest_train['Id']\n",
    "data['Expected']= contest_train['pred_str'] + \"-\" + contest_train['pred_2']\n",
    "data['Expected'] = data['Expected'].str.replace('-NaT','')"
   ]
  },
  {
   "cell_type": "code",
   "execution_count": 28,
   "metadata": {},
   "outputs": [],
   "source": [
    "import datetime\n",
    "\n",
    "now = datetime.datetime.now()\n",
    "now.strftime(\"%m_%d_%H_%M\")\n",
    "data.to_csv('sub_kiseleva_'+str(now)+'.csv', index=False)\n",
    "# print(\"Your submission was successfully saved!\")"
   ]
  },
  {
   "cell_type": "markdown",
   "metadata": {},
   "source": [
    "##  Проверка точности"
   ]
  },
  {
   "cell_type": "code",
   "execution_count": 29,
   "metadata": {},
   "outputs": [],
   "source": [
    "#Загружаем ответы\n",
    "contest_resolved = pd.read_csv(\n",
    "    'datasets/temporal-corpora-ru-rev3-resolved.csv', sep=',',decimal='.')"
   ]
  },
  {
   "cell_type": "code",
   "execution_count": 30,
   "metadata": {},
   "outputs": [],
   "source": [
    "accuracy =  data['Expected'] == contest_resolved['Expected']"
   ]
  },
  {
   "cell_type": "code",
   "execution_count": 31,
   "metadata": {},
   "outputs": [
    {
     "name": "stdout",
     "output_type": "stream",
     "text": [
      "\u001b[1m \u001b[34mТочность -\u001b[0m \u001b[1m \u001b[34m0.3427835051546392\u001b[0m \u001b[0m\n"
     ]
    }
   ],
   "source": [
    "print(bold(),colored('Точность -','blue'), bold(), colored(accuracy.mean(),'blue'), bold_end()) "
   ]
  }
 ],
 "metadata": {
  "kernelspec": {
   "display_name": "Python 3",
   "language": "python",
   "name": "python3"
  },
  "language_info": {
   "codemirror_mode": {
    "name": "ipython",
    "version": 3
   },
   "file_extension": ".py",
   "mimetype": "text/x-python",
   "name": "python",
   "nbconvert_exporter": "python",
   "pygments_lexer": "ipython3",
   "version": "3.7.6"
  },
  "toc": {
   "base_numbering": 1,
   "nav_menu": {},
   "number_sections": true,
   "sideBar": true,
   "skip_h1_title": false,
   "title_cell": "Table of Contents",
   "title_sidebar": "Contents",
   "toc_cell": false,
   "toc_position": {},
   "toc_section_display": true,
   "toc_window_display": false
  }
 },
 "nbformat": 4,
 "nbformat_minor": 2
}
